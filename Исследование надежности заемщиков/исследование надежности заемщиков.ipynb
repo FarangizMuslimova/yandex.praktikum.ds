{
 "cells": [
  {
   "cell_type": "markdown",
   "metadata": {},
   "source": [
    "## Исследование надёжности заёмщиков\n",
    "\n",
    "Заказчик — кредитный отдел банка. Нужно разобраться, влияет ли семейное положение и количество детей клиента на факт погашения кредита в срок. Входные данные от банка — статистика о платёжеспособности клиентов.\n",
    "\n",
    "Результаты исследования будут учтены при построении модели **кредитного скоринга** — специальной системы, которая оценивает способность потенциального заёмщика вернуть кредит банку."
   ]
  },
  {
   "cell_type": "markdown",
   "metadata": {},
   "source": [
    "### Шаг 1. Откройте файл с данными и изучите общую информацию. "
   ]
  },
  {
   "cell_type": "code",
   "execution_count": 22,
   "metadata": {},
   "outputs": [
    {
     "name": "stdout",
     "output_type": "stream",
     "text": [
      "   children  days_employed  dob_years education  education_id  \\\n",
      "0         1   -8437.673028         42    высшее             0   \n",
      "1         1   -4024.803754         36   среднее             1   \n",
      "2         0   -5623.422610         33   Среднее             1   \n",
      "3         3   -4124.747207         32   среднее             1   \n",
      "4         0  340266.072047         53   среднее             1   \n",
      "5         0    -926.185831         27    высшее             0   \n",
      "6         0   -2879.202052         43    высшее             0   \n",
      "7         0    -152.779569         50   СРЕДНЕЕ             1   \n",
      "8         2   -6929.865299         35    ВЫСШЕЕ             0   \n",
      "9         0   -2188.756445         41   среднее             1   \n",
      "\n",
      "      family_status  family_status_id gender income_type  debt   total_income  \\\n",
      "0   женат / замужем                 0      F   сотрудник     0  253875.639453   \n",
      "1   женат / замужем                 0      F   сотрудник     0  112080.014102   \n",
      "2   женат / замужем                 0      M   сотрудник     0  145885.952297   \n",
      "3   женат / замужем                 0      M   сотрудник     0  267628.550329   \n",
      "4  гражданский брак                 1      F   пенсионер     0  158616.077870   \n",
      "5  гражданский брак                 1      M   компаньон     0  255763.565419   \n",
      "6   женат / замужем                 0      F   компаньон     0  240525.971920   \n",
      "7   женат / замужем                 0      M   сотрудник     0  135823.934197   \n",
      "8  гражданский брак                 1      F   сотрудник     0   95856.832424   \n",
      "9   женат / замужем                 0      M   сотрудник     0  144425.938277   \n",
      "\n",
      "                      purpose  \n",
      "0               покупка жилья  \n",
      "1     приобретение автомобиля  \n",
      "2               покупка жилья  \n",
      "3  дополнительное образование  \n",
      "4             сыграть свадьбу  \n",
      "5               покупка жилья  \n",
      "6           операции с жильем  \n",
      "7                 образование  \n",
      "8       на проведение свадьбы  \n",
      "9     покупка жилья для семьи  \n",
      "<class 'pandas.core.frame.DataFrame'>\n",
      "RangeIndex: 21525 entries, 0 to 21524\n",
      "Data columns (total 12 columns):\n",
      "children            21525 non-null int64\n",
      "days_employed       19351 non-null float64\n",
      "dob_years           21525 non-null int64\n",
      "education           21525 non-null object\n",
      "education_id        21525 non-null int64\n",
      "family_status       21525 non-null object\n",
      "family_status_id    21525 non-null int64\n",
      "gender              21525 non-null object\n",
      "income_type         21525 non-null object\n",
      "debt                21525 non-null int64\n",
      "total_income        19351 non-null float64\n",
      "purpose             21525 non-null object\n",
      "dtypes: float64(2), int64(5), object(5)\n",
      "memory usage: 2.0+ MB\n"
     ]
    }
   ],
   "source": [
    "import pandas as pd\n",
    "data = pd.read_csv('/datasets/data.csv')\n",
    "print(data.head(10))\n",
    "data.info()"
   ]
  },
  {
   "cell_type": "markdown",
   "metadata": {},
   "source": [
    "### Вывод"
   ]
  },
  {
   "cell_type": "markdown",
   "metadata": {},
   "source": [
    "Каждая строка содержит информацию о семейном положении, трудовой деятельности, доходе и задолженности по кредиту клиента банка. В глаза бросаются следующие проблемы: неверный тип данных в столбце об общем трудовом стаже и в столбце об образованиии знчения внесены в разных регистрах, в столбце 'purpose' имеются значения с одной основой."
   ]
  },
  {
   "cell_type": "markdown",
   "metadata": {},
   "source": [
    "### Шаг 2. Предобработка данных"
   ]
  },
  {
   "cell_type": "markdown",
   "metadata": {},
   "source": [
    "### Обработка пропусков"
   ]
  },
  {
   "cell_type": "code",
   "execution_count": 23,
   "metadata": {},
   "outputs": [],
   "source": [
    "data.isnull().sum()\n",
    "data['days_employed'] = data['days_employed'].fillna(data['days_employed'].median())\n",
    "data['total_income'] = data['total_income'].fillna(data['total_income'].median())\n",
    "#data.isnull().sum()"
   ]
  },
  {
   "cell_type": "markdown",
   "metadata": {},
   "source": [
    "### Вывод"
   ]
  },
  {
   "cell_type": "markdown",
   "metadata": {},
   "source": [
    "Были клиенты, для которых доступна не вся информация. Пропуски наблюдались  в количественных переменных 'days_employed' и 'total_income'. Пропуски в стаже работы и доходе были заменены на медиану."
   ]
  },
  {
   "cell_type": "markdown",
   "metadata": {},
   "source": [
    "### Замена типа данных"
   ]
  },
  {
   "cell_type": "code",
   "execution_count": 24,
   "metadata": {},
   "outputs": [],
   "source": [
    "#data.info()\n",
    "data['days_employed'] = data['days_employed'].astype('int')\n",
    "data.loc[:,'days_employed'] = data.loc[:,'days_employed'].abs()\n",
    "data.loc[:,'children'] = data.loc[:,'children'].abs()\n",
    "\n",
    "data['total_income'] = data['total_income'].astype('int')\n",
    "#print(data.head())"
   ]
  },
  {
   "cell_type": "markdown",
   "metadata": {},
   "source": [
    "### Вывод"
   ]
  },
  {
   "cell_type": "markdown",
   "metadata": {},
   "source": [
    "Ранее были обнаружены ошибки в типе данных в столбцах 'days_employed' и 'total_income', они были устранены методом astype() и приведены к типу 'int'. Также знечения в столбцах 'days_employed', 'children' были взяты по модулю, чтобы значения не были отрицательными."
   ]
  },
  {
   "cell_type": "markdown",
   "metadata": {},
   "source": [
    "### Обработка дубликатов"
   ]
  },
  {
   "cell_type": "code",
   "execution_count": 25,
   "metadata": {},
   "outputs": [
    {
     "name": "stdout",
     "output_type": "stream",
     "text": [
      "0\n"
     ]
    }
   ],
   "source": [
    "data['education'] = data['education'].str.lower()\n",
    "data['education'].value_counts()\n",
    "data = data.drop_duplicates().reset_index(drop=True)\n",
    "print(data.duplicated().sum())\n",
    "\n"
   ]
  },
  {
   "cell_type": "markdown",
   "metadata": {},
   "source": [
    "### Вывод"
   ]
  },
  {
   "cell_type": "markdown",
   "metadata": {},
   "source": [
    "В столбце 'education' были дубликаты с разными регистрами, методом str.lower() все значения привели к нижнему регистру. Методом value_counts() нашли частоту встречаемости каждого уникального значения в столбце 'education'. Методом drop_duplicates() удалили дубликаты, содержащиеся в данных."
   ]
  },
  {
   "cell_type": "markdown",
   "metadata": {},
   "source": [
    "### Лемматизация"
   ]
  },
  {
   "cell_type": "code",
   "execution_count": 26,
   "metadata": {},
   "outputs": [
    {
     "name": "stdout",
     "output_type": "stream",
     "text": [
      "0                     покупка жилье\\n\n",
      "1           приобретение автомобиль\\n\n",
      "2                     покупка жилье\\n\n",
      "3        дополнительный образование\\n\n",
      "4                   сыграть свадьба\\n\n",
      "                     ...             \n",
      "21449              операция с жилье\\n\n",
      "21450           сделка с автомобиль\\n\n",
      "21451                  недвижимость\\n\n",
      "21452    на покупка свой автомобиль\\n\n",
      "21453         на покупка автомобиль\\n\n",
      "Name: purpose, Length: 21454, dtype: object\n"
     ]
    }
   ],
   "source": [
    "\n",
    "from pymystem3 import Mystem\n",
    "m = Mystem()\n",
    "data['purpose'] = data['purpose'].apply(lambda x: ''.join(m.lemmatize(x)))\n",
    "print(data['purpose'])\n",
    "\n"
   ]
  },
  {
   "cell_type": "markdown",
   "metadata": {},
   "source": [
    "### Вывод"
   ]
  },
  {
   "cell_type": "markdown",
   "metadata": {},
   "source": [
    "Импортируем библиотеку pymystem3. С помощью метода apply() и лямда функции применим лемматизацию к столбцу 'purpose' и склеим."
   ]
  },
  {
   "cell_type": "markdown",
   "metadata": {},
   "source": [
    "### Категоризация данных"
   ]
  },
  {
   "cell_type": "code",
   "execution_count": 27,
   "metadata": {
    "scrolled": false
   },
   "outputs": [
    {
     "name": "stdout",
     "output_type": "stream",
     "text": [
      "недвижимость    4460\n",
      "автомобиль      4306\n",
      "образование     4013\n",
      "свадьба         2324\n",
      "Name: purpose_category, dtype: int64\n"
     ]
    }
   ],
   "source": [
    "#Категоризация целей получения кредита\n",
    "def purpose_group(row):\n",
    "        if  ('жилье' or 'недвижимость')  in row:\n",
    "            return 'недвижимость'\n",
    "        elif 'автомобиль' in row:\n",
    "            return 'автомобиль'\n",
    "        elif 'образование' in row:\n",
    "            return 'образование'\n",
    "        elif  'свадьба' in row:\n",
    "            return 'свадьба'\n",
    "data['purpose_category'] = data['purpose'].apply(purpose_group)\n",
    "print(data['purpose_category'].value_counts())\n",
    "\n"
   ]
  },
  {
   "cell_type": "code",
   "execution_count": 28,
   "metadata": {},
   "outputs": [
    {
     "data": {
      "text/html": [
       "<div>\n",
       "<style scoped>\n",
       "    .dataframe tbody tr th:only-of-type {\n",
       "        vertical-align: middle;\n",
       "    }\n",
       "\n",
       "    .dataframe tbody tr th {\n",
       "        vertical-align: top;\n",
       "    }\n",
       "\n",
       "    .dataframe thead th {\n",
       "        text-align: right;\n",
       "    }\n",
       "</style>\n",
       "<table border=\"1\" class=\"dataframe\">\n",
       "  <thead>\n",
       "    <tr style=\"text-align: right;\">\n",
       "      <th></th>\n",
       "      <th>children</th>\n",
       "      <th>days_employed</th>\n",
       "      <th>dob_years</th>\n",
       "      <th>education</th>\n",
       "      <th>education_id</th>\n",
       "      <th>family_status</th>\n",
       "      <th>family_status_id</th>\n",
       "      <th>gender</th>\n",
       "      <th>income_type</th>\n",
       "      <th>debt</th>\n",
       "      <th>total_income</th>\n",
       "      <th>purpose</th>\n",
       "      <th>purpose_category</th>\n",
       "      <th>income_level</th>\n",
       "    </tr>\n",
       "  </thead>\n",
       "  <tbody>\n",
       "    <tr>\n",
       "      <td>0</td>\n",
       "      <td>1</td>\n",
       "      <td>8437</td>\n",
       "      <td>42</td>\n",
       "      <td>высшее</td>\n",
       "      <td>0</td>\n",
       "      <td>женат / замужем</td>\n",
       "      <td>0</td>\n",
       "      <td>F</td>\n",
       "      <td>сотрудник</td>\n",
       "      <td>0</td>\n",
       "      <td>253875</td>\n",
       "      <td>покупка жилье\\n</td>\n",
       "      <td>недвижимость</td>\n",
       "      <td>средний уровень дохода</td>\n",
       "    </tr>\n",
       "    <tr>\n",
       "      <td>1</td>\n",
       "      <td>1</td>\n",
       "      <td>4024</td>\n",
       "      <td>36</td>\n",
       "      <td>среднее</td>\n",
       "      <td>1</td>\n",
       "      <td>женат / замужем</td>\n",
       "      <td>0</td>\n",
       "      <td>F</td>\n",
       "      <td>сотрудник</td>\n",
       "      <td>0</td>\n",
       "      <td>112080</td>\n",
       "      <td>приобретение автомобиль\\n</td>\n",
       "      <td>автомобиль</td>\n",
       "      <td>низкий уровень дохода</td>\n",
       "    </tr>\n",
       "    <tr>\n",
       "      <td>2</td>\n",
       "      <td>0</td>\n",
       "      <td>5623</td>\n",
       "      <td>33</td>\n",
       "      <td>среднее</td>\n",
       "      <td>1</td>\n",
       "      <td>женат / замужем</td>\n",
       "      <td>0</td>\n",
       "      <td>M</td>\n",
       "      <td>сотрудник</td>\n",
       "      <td>0</td>\n",
       "      <td>145885</td>\n",
       "      <td>покупка жилье\\n</td>\n",
       "      <td>недвижимость</td>\n",
       "      <td>низкий уровень дохода</td>\n",
       "    </tr>\n",
       "    <tr>\n",
       "      <td>3</td>\n",
       "      <td>3</td>\n",
       "      <td>4124</td>\n",
       "      <td>32</td>\n",
       "      <td>среднее</td>\n",
       "      <td>1</td>\n",
       "      <td>женат / замужем</td>\n",
       "      <td>0</td>\n",
       "      <td>M</td>\n",
       "      <td>сотрудник</td>\n",
       "      <td>0</td>\n",
       "      <td>267628</td>\n",
       "      <td>дополнительный образование\\n</td>\n",
       "      <td>образование</td>\n",
       "      <td>средний уровень дохода</td>\n",
       "    </tr>\n",
       "    <tr>\n",
       "      <td>4</td>\n",
       "      <td>0</td>\n",
       "      <td>340266</td>\n",
       "      <td>53</td>\n",
       "      <td>среднее</td>\n",
       "      <td>1</td>\n",
       "      <td>гражданский брак</td>\n",
       "      <td>1</td>\n",
       "      <td>F</td>\n",
       "      <td>пенсионер</td>\n",
       "      <td>0</td>\n",
       "      <td>158616</td>\n",
       "      <td>сыграть свадьба\\n</td>\n",
       "      <td>свадьба</td>\n",
       "      <td>средний уровень дохода</td>\n",
       "    </tr>\n",
       "  </tbody>\n",
       "</table>\n",
       "</div>"
      ],
      "text/plain": [
       "   children  days_employed  dob_years education  education_id  \\\n",
       "0         1           8437         42    высшее             0   \n",
       "1         1           4024         36   среднее             1   \n",
       "2         0           5623         33   среднее             1   \n",
       "3         3           4124         32   среднее             1   \n",
       "4         0         340266         53   среднее             1   \n",
       "\n",
       "      family_status  family_status_id gender income_type  debt  total_income  \\\n",
       "0   женат / замужем                 0      F   сотрудник     0        253875   \n",
       "1   женат / замужем                 0      F   сотрудник     0        112080   \n",
       "2   женат / замужем                 0      M   сотрудник     0        145885   \n",
       "3   женат / замужем                 0      M   сотрудник     0        267628   \n",
       "4  гражданский брак                 1      F   пенсионер     0        158616   \n",
       "\n",
       "                        purpose purpose_category            income_level  \n",
       "0               покупка жилье\\n     недвижимость  средний уровень дохода  \n",
       "1     приобретение автомобиль\\n       автомобиль   низкий уровень дохода  \n",
       "2               покупка жилье\\n     недвижимость   низкий уровень дохода  \n",
       "3  дополнительный образование\\n      образование  средний уровень дохода  \n",
       "4             сыграть свадьба\\n          свадьба  средний уровень дохода  "
      ]
     },
     "execution_count": 28,
     "metadata": {},
     "output_type": "execute_result"
    }
   ],
   "source": [
    "#Категоризация ежемесячного дохода\n",
    "#print(data['total_income'].min() , data['total_income'].max(), data['total_income'].median() )\n",
    "def income_level(x):\n",
    "    if x < 150000:\n",
    "        return 'низкий уровень дохода'\n",
    "    if x <= 300000:\n",
    "        return 'средний уровень дохода'\n",
    "    return 'высокий уровень дохода'\n",
    "data['income_level'] = data['total_income'].apply(lambda x: income_level(x))\n",
    "data.head()"
   ]
  },
  {
   "cell_type": "markdown",
   "metadata": {},
   "source": [
    "### Вывод"
   ]
  },
  {
   "cell_type": "markdown",
   "metadata": {},
   "source": [
    "После лемматизации столбца с целями получения кредита можно приступать к категоризации на 4 категории: недвижимость, автомобиль, образование, свадьба. Для этого была написана функция purpose_group(row) принимающая в качестве аргумента строку и по некоторому ключеву слову определят принадлежность к той или иной категории. Методом apply и lambda-функцией применили к столбцу 'purpose'. Аналогичным образом разделили ежемесячный доход клиентов по уровням дохода. Вызвав минимальный,максимальный и медианный значения определили границы дохода."
   ]
  },
  {
   "cell_type": "markdown",
   "metadata": {},
   "source": [
    "### Шаг 3. Ответьте на вопросы"
   ]
  },
  {
   "cell_type": "markdown",
   "metadata": {},
   "source": [
    "- Есть ли зависимость между наличием детей и возвратом кредита в срок?"
   ]
  },
  {
   "cell_type": "code",
   "execution_count": 34,
   "metadata": {},
   "outputs": [
    {
     "name": "stdout",
     "output_type": "stream",
     "text": [
      "debt            0       1   percent\n",
      "children                           \n",
      "0         13028.0  1063.0  7.543822\n",
      "1          4410.0   445.0  9.165808\n",
      "2          1926.0   202.0  9.492481\n",
      "3           303.0    27.0  8.181818\n",
      "4            37.0     4.0  9.756098\n",
      "5             9.0     NaN       NaN\n"
     ]
    }
   ],
   "source": [
    "#data[data['children']==20]=2\n",
    "\n",
    "data['children'] = data['children'].replace(20,2)  #изменение в коде\n",
    "\n",
    "children_debt_table = data.pivot_table(index=['children'], columns='debt', values='family_status_id', aggfunc='count')\n",
    "\n",
    "#процент просрочивших кредит:\n",
    "children_debt_table['percent'] = children_debt_table[1] * 100 / (children_debt_table[0] + children_debt_table[1]) \n",
    "\n",
    "print(children_debt_table)"
   ]
  },
  {
   "cell_type": "code",
   "execution_count": null,
   "metadata": {},
   "outputs": [],
   "source": []
  },
  {
   "cell_type": "markdown",
   "metadata": {},
   "source": [
    "### Вывод"
   ]
  },
  {
   "cell_type": "markdown",
   "metadata": {},
   "source": [
    "Из полученной сводной таблицы видим, что с появлением детей и увеличением их количества желание брать кредиты падает, также падает возможность  погашения задолженности. Это видно из столбца с процентами просрочивших кредит "
   ]
  },
  {
   "cell_type": "markdown",
   "metadata": {},
   "source": [
    "- Есть ли зависимость между семейным положением и возвратом кредита в срок?"
   ]
  },
  {
   "cell_type": "code",
   "execution_count": 37,
   "metadata": {},
   "outputs": [
    {
     "name": "stdout",
     "output_type": "stream",
     "text": [
      "debt                       0    1   percent\n",
      "family_status                              \n",
      "Не женат / не замужем   2536  274  9.750890\n",
      "гражданский брак        3763  388  9.347145\n",
      "женат / замужем        11408  931  7.545182\n",
      "в разводе               1110   85  7.112971\n",
      "вдовец / вдова           896   63  6.569343\n"
     ]
    }
   ],
   "source": [
    "family_status_debt_table = data.pivot_table(index=['family_status'], columns='debt', values='family_status_id', aggfunc='count')\n",
    "\n",
    "# процент просрочивших кредит\n",
    "family_status_debt_table['percent'] = family_status_debt_table[1] * 100 / (family_status_debt_table[0] + family_status_debt_table[1])\n",
    "\n",
    "print(family_status_debt_table.sort_values(by='percent', ascending=False))"
   ]
  },
  {
   "cell_type": "markdown",
   "metadata": {},
   "source": [
    "### Вывод"
   ]
  },
  {
   "cell_type": "markdown",
   "metadata": {},
   "source": [
    "Из приведенной таблицы видим, что наибольшее количество кредитов берут семейные люди и совместными усилиями возвращают кредит в срок. Не женатых / не замужних должников больше всего, их почти 10%.  Наименьшее количество кредитов у овдовевших людей и минимальная задолженность, они составляют 6.6%.   "
   ]
  },
  {
   "cell_type": "markdown",
   "metadata": {},
   "source": [
    "- Есть ли зависимость между уровнем дохода и возвратом кредита в срок?"
   ]
  },
  {
   "cell_type": "code",
   "execution_count": 40,
   "metadata": {},
   "outputs": [
    {
     "name": "stdout",
     "output_type": "stream",
     "text": [
      "debt                        0     1   percent\n",
      "income_level                                 \n",
      "высокий уровень дохода   1376   106  7.152497\n",
      "средний уровень дохода   7082   620  8.049857\n",
      "низкий уровень дохода   11255  1015  8.272209\n"
     ]
    }
   ],
   "source": [
    "income_debt_table = data.pivot_table(index=['income_level'], columns='debt', values='income_type', aggfunc='count')\n",
    "\n",
    "#процент просрочивших кредит\n",
    "income_debt_table['percent'] = income_debt_table[1] * 100 / (income_debt_table[0] + income_debt_table[1])\n",
    "\n",
    "print(income_debt_table.sort_values(by='percent'))"
   ]
  },
  {
   "cell_type": "markdown",
   "metadata": {},
   "source": [
    "### Вывод"
   ]
  },
  {
   "cell_type": "markdown",
   "metadata": {},
   "source": [
    "Люди с высоким доходом берут меньше всего кредитов и задолженность по кредиту минимальная, что составляет чуть больше 7%. Таким образом, можно сделать вывод, что чем выше доход у клиента, тем выше его вероятность, что кредит будет выплачен в срок."
   ]
  },
  {
   "cell_type": "markdown",
   "metadata": {},
   "source": [
    "- Как разные цели кредита влияют на его возврат в срок?"
   ]
  },
  {
   "cell_type": "code",
   "execution_count": 41,
   "metadata": {},
   "outputs": [
    {
     "name": "stdout",
     "output_type": "stream",
     "text": [
      "debt                 0    1   percent\n",
      "purpose_category                     \n",
      "недвижимость      4152  308  6.905830\n",
      "свадьба           2138  186  8.003442\n",
      "образование       3643  370  9.220035\n",
      "автомобиль        3903  403  9.359034\n"
     ]
    }
   ],
   "source": [
    "purpose_debt_table = data.pivot_table(index=['purpose_category'], columns='debt', values='family_status_id', aggfunc='count')\n",
    "\n",
    "#процент просрочивших кредит\n",
    "purpose_debt_table['percent'] = purpose_debt_table[1] * 100 / (purpose_debt_table[0] + purpose_debt_table[1])\n",
    "\n",
    "print(purpose_debt_table.sort_values(by='percent'))"
   ]
  },
  {
   "cell_type": "markdown",
   "metadata": {},
   "source": [
    "### Вывод"
   ]
  },
  {
   "cell_type": "markdown",
   "metadata": {},
   "source": [
    "Люди больше всего берут кредит на недвижимость, так как самое важное крыша над головой и собственное имущество, также это и часть дохода. Так как, недвижимость является  одним из самых необходимых вещей для жизни, то люди стараются во время выплачивать кредит, чтобы не потерять. На втором месте автомобиль, в современном мире без личного средства передвижения сложно угнаться за ритмом жизни, но без него тоже можно обойтись. И в то же время  сумма ежемесячного платежа выше, чем по среднему необеспеченному кредиту. Поэтому клиенты делают выбор в пользу  жизненно необходимых затрат или меньшей суммы долга."
   ]
  },
  {
   "cell_type": "markdown",
   "metadata": {},
   "source": [
    "### Шаг 4. Общий вывод"
   ]
  },
  {
   "cell_type": "markdown",
   "metadata": {},
   "source": [
    "Таким образом, из проведенного анализа можно сделать вывод, что женатые/замужние пока без детей клиенты охотнее берут кредиты. А возвращать кредит легче совместными усилиями, нежели по одиночке. Наиболее важные цели кредита- это недвижимость, чтобы была своя крыша над головой, когда появятся дети,  и автомобиль, средство личного передвижения. В то же время, люди тратят деньги на первостепенные, наиболее важные для жизни или легкодоступные вещи. Также чем  выше доход у людей, тем выше возвратность кредита в срок.\n",
    "\n"
   ]
  },
  {
   "cell_type": "markdown",
   "metadata": {},
   "source": [
    "### Чек-лист готовности проекта\n",
    "\n",
    "Поставьте 'x' в выполненных пунктах. Далее нажмите Shift+Enter."
   ]
  },
  {
   "cell_type": "markdown",
   "metadata": {},
   "source": [
    "- [x]  открыт файл;\n",
    "- [ ]  файл изучен;\n",
    "- [ ]  определены пропущенные значения;\n",
    "- [ ]  заполнены пропущенные значения;\n",
    "- [ ]  есть пояснение, какие пропущенные значения обнаружены;\n",
    "- [ ]  описаны возможные причины появления пропусков в данных;\n",
    "- [ ]  объяснено, по какому принципу заполнены пропуски;\n",
    "- [ ]  заменен вещественный тип данных на целочисленный;\n",
    "- [ ]  есть пояснение, какой метод используется для изменения типа данных и почему;\n",
    "- [ ]  удалены дубликаты;\n",
    "- [ ]  есть пояснение, какой метод используется для поиска и удаления дубликатов;\n",
    "- [ ]  описаны возможные причины появления дубликатов в данных;\n",
    "- [ ]  выделены леммы в значениях столбца с целями получения кредита;\n",
    "- [ ]  описан процесс лемматизации;\n",
    "- [ ]  данные категоризированы;\n",
    "- [ ]  есть объяснение принципа категоризации данных;\n",
    "- [ ]  есть ответ на вопрос: \"Есть ли зависимость между наличием детей и возвратом кредита в срок?\";\n",
    "- [ ]  есть ответ на вопрос: \"Есть ли зависимость между семейным положением и возвратом кредита в срок?\";\n",
    "- [ ]  есть ответ на вопрос: \"Есть ли зависимость между уровнем дохода и возвратом кредита в срок?\";\n",
    "- [ ]  есть ответ на вопрос: \"Как разные цели кредита влияют на его возврат в срок?\";\n",
    "- [ ]  в каждом этапе есть выводы;\n",
    "- [ ]  есть общий вывод."
   ]
  },
  {
   "cell_type": "code",
   "execution_count": null,
   "metadata": {},
   "outputs": [],
   "source": []
  }
 ],
 "metadata": {
  "kernelspec": {
   "display_name": "Python 3",
   "language": "python",
   "name": "python3"
  },
  "language_info": {
   "codemirror_mode": {
    "name": "ipython",
    "version": 3
   },
   "file_extension": ".py",
   "mimetype": "text/x-python",
   "name": "python",
   "nbconvert_exporter": "python",
   "pygments_lexer": "ipython3",
   "version": "3.7.8"
  },
  "toc": {
   "base_numbering": 1,
   "nav_menu": {},
   "number_sections": true,
   "sideBar": true,
   "skip_h1_title": true,
   "title_cell": "Table of Contents",
   "title_sidebar": "Contents",
   "toc_cell": false,
   "toc_position": {},
   "toc_section_display": true,
   "toc_window_display": false
  }
 },
 "nbformat": 4,
 "nbformat_minor": 2
}
